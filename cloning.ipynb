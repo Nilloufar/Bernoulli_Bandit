{
 "cells": [
  {
   "cell_type": "code",
   "id": "98a691ca-8113-4ae7-a785-32cec574daa9",
   "metadata": {},
   "source": [
    "from sklearn.linear_model import LogisticRegression"
   ],
   "outputs": [],
   "execution_count": null
  },
  {
   "cell_type": "code",
   "id": "14b145fd-50e1-4833-b4ce-67827a5dbb7e",
   "metadata": {},
   "source": [
    "from sklearn.metrics import accuracy_score, precision_score, recall_score, f1_score"
   ],
   "outputs": [],
   "execution_count": null
  },
  {
   "cell_type": "code",
   "id": "a40c97f3-3da8-4485-9df0-2cb3f299653c",
   "metadata": {},
   "source": [
    "from sklearn.model_selection import train_test_split"
   ],
   "outputs": [],
   "execution_count": null
  },
  {
   "cell_type": "code",
   "id": "48c5ee18-9573-4d0c-8c77-4dd92d5a9318",
   "metadata": {},
   "source": [
    "import pandas as pd"
   ],
   "outputs": [],
   "execution_count": null
  },
  {
   "cell_type": "code",
   "id": "5781f2b7-cf72-49bb-aeee-8a94a5f6ba56",
   "metadata": {},
   "source": [
    "import numpy as np"
   ],
   "outputs": [],
   "execution_count": null
  },
  {
   "cell_type": "code",
   "id": "f426acea-051c-4f91-9682-f1ebe9f8ce01",
   "metadata": {},
   "source": [
    "df_data = pd.read_csv('train_data.csv')\n",
    "\n",
    "train_data, temp_data = train_test_split(df_data, test_size=0.3, random_state=42)\n",
    "validation_data, test_data = train_test_split(temp_data, test_size=0.5, random_state=42)\n",
    "states_training =train_data[\"states\"]\n",
    "actions_training=train_data[\"actions\"]\n",
    "actions_validation=validation_data[\"actions\"]\n",
    "states_training_array = states_training.values.reshape(-1, 1)\n",
    "test_states = test_data[\"states\"]\n",
    "test_rewards =test_data[\"rewards\"]\n",
    "test_states_array =test_states.values.reshape(-1,1)\n",
    "states_validation =validation_data[\"states\"]\n",
    "\n",
    "y_validation =validation_data[\"rewards\"]\n",
    "states_validation_array = states_validation.values.reshape(-1, 1)\n",
    "actions_training_array = np.vstack(actions_training.apply(lambda x: np.fromstring(x.strip(\"[]\"), sep=\" \")).values)\n",
    "actions_validation_array = np.vstack(actions_validation.apply(lambda x: np.fromstring(x.strip(\"[]\"), sep=\" \")).values)\n",
    "\n",
    "\n",
    "actions_training_int = np.argmax(actions_training_array, axis=1)\n",
    "actions_validation_int = np.argmax(actions_validation_array, axis=1)\n",
    "\n",
    "\n",
    "print(actions_training.shape)\n",
    "print(actions_training_int.shape)\n",
    "print(np.unique(actions_training_int))\n",
    "\n"
   ],
   "outputs": [],
   "execution_count": null
  },
  {
   "cell_type": "code",
   "id": "35be303f-0408-441d-9670-10923e0738af",
   "metadata": {},
   "source": "type(actions_training[0])",
   "outputs": [],
   "execution_count": null
  },
  {
   "cell_type": "code",
   "id": "b1309d3d-c161-4ce9-b049-7b891fd234a0",
   "metadata": {},
   "source": [
    "\n",
    "\n",
    "model=LogisticRegression()\n",
    "model.fit(states_training_array,actions_training_int)\n",
    "\n"
   ],
   "outputs": [],
   "execution_count": null
  },
  {
   "metadata": {},
   "cell_type": "code",
   "source": "actions_validation_array",
   "id": "946c83b5e0457563",
   "outputs": [],
   "execution_count": null
  },
  {
   "cell_type": "code",
   "id": "acf5f1f8-ef9f-4d38-8e89-8cd8c42e195f",
   "metadata": {},
   "source": [
    "y_predicted = model.predict(states_validation_array)\n",
    "accuracy = accuracy_score(actions_validation_int, y_predicted)\n",
    "precision = precision_score(y_validation,y_predicted, average='binary')\n",
    "recall = recall_score(y_validation, y_predicted, average='binary')\n",
    "f1 = f1_score(y_validation, y_predicted, average='binary')\n",
    "print(accuracy,precision,recall,f1)\n"
   ],
   "outputs": [],
   "execution_count": null
  },
  {
   "cell_type": "code",
   "id": "312aee59-b445-43a4-9e3a-5e15833ec019",
   "metadata": {},
   "source": [
    "y_predicted_test=model.predict(test_states_array)\n",
    "accuracy=accuracy_score(test_rewards, y_predicted_test)\n",
    "precision=precision_score(test_rewards,y_predicted_test, average='binary')\n",
    "recall = recall_score(test_rewards, y_predicted_test, average='binary')\n",
    "f1 = f1_score(test_rewards, y_predicted_test, average='binary')\n",
    "print(accuracy,precision,recall,f1)\n",
    "print(y_predicted.sum())"
   ],
   "outputs": [],
   "execution_count": null
  },
  {
   "metadata": {},
   "cell_type": "markdown",
   "source": "### Evaluation",
   "id": "4589c154e72a0193"
  },
  {
   "cell_type": "code",
   "id": "2b1064df-d96a-42f7-b8e6-87ceeea29c19",
   "metadata": {},
   "source": [
    "import bernoulli_bandit as bb\n",
    "env = bb.BernoulliBanditEnv(bernoulli_prob=0.2)  # Create environment with the current p\n",
    "env = bb.BernoulliBanditWrapper(env)"
   ],
   "outputs": [],
   "execution_count": null
  },
  {
   "metadata": {},
   "cell_type": "code",
   "source": [
    "returns = []\n",
    "\n",
    "for num_repeats in range(10000):\n",
    "    state = env.reset()\n",
    "    rewards = []\n",
    "\n",
    "    while True:\n",
    "        # TODO: Use your trained model to predict the action based on the current state\n",
    "        # Example (modify to match your model):\n",
    "        # action = model.predict([state])[0]\n",
    "        # Convert predicted action to one-hot encoding if needed\n",
    "        # action = np.eye(2)[action]\n",
    "\n",
    "        # TODO: Step through the environment with the chosen action\n",
    "        # next_obs, reward, done, info = env.step(action)\n",
    "\n",
    "        # Record the reward\n",
    "        rewards.append(reward)\n",
    "\n",
    "        if done:\n",
    "            total = np.sum(rewards)\n",
    "            returns.append(total)\n",
    "            print(f\"Episode {num_repeats + 1}: Total reward: {total}\")\n",
    "            break"
   ],
   "id": "97845071c612a25e",
   "outputs": [],
   "execution_count": null
  }
 ],
 "metadata": {
  "kernelspec": {
   "display_name": "Python 3 (ipykernel)",
   "language": "python",
   "name": "python3"
  },
  "language_info": {
   "codemirror_mode": {
    "name": "ipython",
    "version": 3
   },
   "file_extension": ".py",
   "mimetype": "text/x-python",
   "name": "python",
   "nbconvert_exporter": "python",
   "pygments_lexer": "ipython3",
   "version": "3.12.7"
  }
 },
 "nbformat": 4,
 "nbformat_minor": 5
}

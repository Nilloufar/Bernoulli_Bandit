{
 "cells": [
  {
   "cell_type": "code",
   "execution_count": null,
   "id": "initial_id",
   "metadata": {},
   "outputs": [],
   "source": []
  },
  {
   "cell_type": "code",
   "execution_count": 2,
   "id": "d619c3fbfcc62a22",
   "metadata": {},
   "outputs": [],
   "source": [
    "# !pip install -r requirements.txt"
   ]
  },
  {
   "cell_type": "code",
   "execution_count": 19,
   "id": "16fe84bb950e973",
   "metadata": {},
   "outputs": [
    {
     "name": "stdout",
     "output_type": "stream",
     "text": [
      "Collecting gym\n",
      "  Downloading gym-0.26.2.tar.gz (721 kB)\n",
      "     ---------------------------------------- 0.0/721.7 kB ? eta -:--:--\n",
      "     ------------------------------------- 721.7/721.7 kB 14.8 MB/s eta 0:00:00\n",
      "  Installing build dependencies: started\n",
      "  Installing build dependencies: finished with status 'done'\n",
      "  Getting requirements to build wheel: started\n",
      "  Getting requirements to build wheel: finished with status 'done'\n",
      "  Preparing metadata (pyproject.toml): started\n",
      "  Preparing metadata (pyproject.toml): finished with status 'done'\n",
      "Requirement already satisfied: numpy>=1.18.0 in c:\\users\\lhaus\\anaconda3\\lib\\site-packages (from gym) (1.26.4)\n",
      "Requirement already satisfied: cloudpickle>=1.2.0 in c:\\users\\lhaus\\anaconda3\\lib\\site-packages (from gym) (3.0.0)\n",
      "Collecting gym_notices>=0.0.4 (from gym)\n",
      "  Downloading gym_notices-0.0.8-py3-none-any.whl.metadata (1.0 kB)\n",
      "Downloading gym_notices-0.0.8-py3-none-any.whl (3.0 kB)\n",
      "Building wheels for collected packages: gym\n",
      "  Building wheel for gym (pyproject.toml): started\n",
      "  Building wheel for gym (pyproject.toml): finished with status 'done'\n",
      "  Created wheel for gym: filename=gym-0.26.2-py3-none-any.whl size=827703 sha256=320dd2bdbe65d69db0c2e06ad9a9bf52a7d6fb9d75fa4e22b3e974fe48f219b1\n",
      "  Stored in directory: c:\\users\\lhaus\\appdata\\local\\pip\\cache\\wheels\\95\\51\\6c\\9bb05ebbe7c5cb8171dfaa3611f32622ca4658d53f31c79077\n",
      "Successfully built gym\n",
      "Installing collected packages: gym_notices, gym\n",
      "Successfully installed gym-0.26.2 gym_notices-0.0.8\n"
     ]
    }
   ],
   "source": [
    "!pip install gym"
   ]
  },
  {
   "cell_type": "code",
   "execution_count": null,
   "id": "311ebb6c-3088-4669-b28a-7af0f507efd8",
   "metadata": {},
   "outputs": [],
   "source": []
  },
  {
   "cell_type": "code",
   "execution_count": null,
   "id": "f7bde6da-6789-4828-b2f7-b713bae8583b",
   "metadata": {},
   "outputs": [],
   "source": []
  },
  {
   "cell_type": "code",
   "execution_count": 1,
   "id": "c3aa9fdb-31b6-48ab-abb8-c8fc8d812d35",
   "metadata": {},
   "outputs": [],
   "source": [
    "import bernoulli_bandit as bb"
   ]
  },
  {
   "cell_type": "markdown",
   "id": "b811962f7ee9d2ff",
   "metadata": {},
   "source": [
    "### save datasets"
   ]
  },
  {
   "cell_type": "code",
   "execution_count": null,
   "id": "a2afc696-77b1-47af-acb3-1d6f5c174cac",
   "metadata": {},
   "outputs": [],
   "source": [
    "\n"
   ]
  },
  {
   "cell_type": "code",
   "execution_count": 5,
   "id": "8de6e4604ec90749",
   "metadata": {},
   "outputs": [
    {
     "name": "stdout",
     "output_type": "stream",
     "text": [
      "bernoulli-bandit: Number of samples collected: 100000\n",
      "Trajectory returns: mean = 0.81698, std = 0.38668291868144367, max = 1.0, min = 0.0\n",
      "bernoulli-bandit: Number of samples collected: 100000\n",
      "Trajectory returns: mean = 0.68028, std = 0.4663680109098393, max = 1.0, min = 0.0\n",
      "bernoulli-bandit: Number of samples collected: 100000\n",
      "Trajectory returns: mean = 0.57966, std = 0.49361349697916485, max = 1.0, min = 0.0\n",
      "bernoulli-bandit: Number of samples collected: 100000\n",
      "Trajectory returns: mean = 0.52015, std = 0.49959381251172436, max = 1.0, min = 0.0\n",
      "bernoulli-bandit: Number of samples collected: 100000\n",
      "Trajectory returns: mean = 0.49954, std = 0.4999997883999552, max = 1.0, min = 0.0\n"
     ]
    }
   ],
   "source": [
    "p_values = [0.1,0.2,0.3,0.4,0.5]\n",
    "datasets={}\n",
    "for p in p_values:\n",
    "    env = bb.BernoulliBanditEnv(bernoulli_prob=p)  # Create environment with the current p\n",
    "    env = bb.BernoulliBanditWrapper(env)  # Wrap the environment if needed\n",
    "    datasets[p] = bb.get_bandit_dataset(env, p=p, N_steps=100000)  # Generate the dataset and store it\n"
   ]
  },
  {
   "cell_type": "code",
   "execution_count": null,
   "id": "3ca97ed4-cb43-4615-b1eb-9aab406e6480",
   "metadata": {},
   "outputs": [],
   "source": [
    "\n"
   ]
  },
  {
   "cell_type": "markdown",
   "id": "c9ea702bbfdbb51b",
   "metadata": {},
   "source": [
    "## load datasets"
   ]
  },
  {
   "cell_type": "code",
   "execution_count": 8,
   "id": "d78852cc97fbb7d8",
   "metadata": {},
   "outputs": [],
   "source": [
    "import pandas as pd\n",
    "import pickle\n",
    "import numpy as np\n",
    "from matplotlib import pyplot as plt"
   ]
  },
  {
   "cell_type": "code",
   "execution_count": 9,
   "id": "68405f5abb4f3268",
   "metadata": {},
   "outputs": [],
   "source": [
    "data_1 =pickle.load(open(\"bernoulli-bandit-p0.1.pkl\", \"rb\"))\n"
   ]
  },
  {
   "cell_type": "code",
   "execution_count": 10,
   "id": "4d2f09dd-3772-4c9a-80d4-0243a76ae4ae",
   "metadata": {},
   "outputs": [],
   "source": [
    "\n",
    "for p in p_values:\n",
    "    file_name = f\"bernoulli-bandit-p{p}.pkl\"  \n",
    "    datasets[p] = pickle.load(open(file_name, \"rb\"))  \n"
   ]
  },
  {
   "cell_type": "code",
   "execution_count": null,
   "id": "b7eee54608903b96",
   "metadata": {},
   "outputs": [],
   "source": [
    "\n"
   ]
  },
  {
   "cell_type": "code",
   "execution_count": null,
   "id": "a766a81d3d83eeef",
   "metadata": {},
   "outputs": [],
   "source": []
  },
  {
   "cell_type": "code",
   "execution_count": 13,
   "id": "16f51c24-2759-4f2d-9c4a-ab6eff68a4e7",
   "metadata": {},
   "outputs": [
    {
     "name": "stdout",
     "output_type": "stream",
     "text": [
      "p=0.1, type=<class 'list'>\n",
      "p=0.2, type=<class 'list'>\n",
      "p=0.3, type=<class 'list'>\n",
      "p=0.4, type=<class 'list'>\n",
      "p=0.5, type=<class 'list'>\n"
     ]
    }
   ],
   "source": [
    "for p, data in datasets.items():\n",
    "    print(f\"p={p}, type={type(data)}\")  # Check the type of data"
   ]
  },
  {
   "cell_type": "code",
   "execution_count": null,
   "id": "077c4b3d-a702-4b51-83f5-13b7e1ebbd30",
   "metadata": {},
   "outputs": [],
   "source": [
    "\n"
   ]
  },
  {
   "cell_type": "code",
   "execution_count": 15,
   "id": "660e2fd6-005f-47d3-8e01-b404c8e05b58",
   "metadata": {},
   "outputs": [
    {
     "name": "stdout",
     "output_type": "stream",
     "text": [
      "For p: 0.1, average reward: 0.81698\n",
      "For p: 0.2, average reward: 0.68028\n",
      "For p: 0.3, average reward: 0.57966\n",
      "For p: 0.4, average reward: 0.52015\n",
      "For p: 0.5, average reward: 0.49954\n"
     ]
    }
   ],
   "source": [
    "average_rewards =[]\n",
    "for p, data in datasets.items():\n",
    "  rewards = np.array([np.sum(entry[\"rewards\"]) for entry in data])  \n",
    "  average_reward = np.mean(rewards)  \n",
    "  print(f\"For p: {p}, average reward: {average_reward}\")\n",
    "  average_rewards.append(average_reward)"
   ]
  },
  {
   "cell_type": "code",
   "execution_count": 16,
   "id": "613715bb-a533-415a-be74-d597574cb1cc",
   "metadata": {},
   "outputs": [
    {
     "name": "stdout",
     "output_type": "stream",
     "text": [
      "[0.81698, 0.68028, 0.57966, 0.52015, 0.49954]\n"
     ]
    }
   ],
   "source": [
    "print(average_rewards)"
   ]
  },
  {
   "cell_type": "code",
   "execution_count": 17,
   "id": "3f07fb4e-0e33-4fca-848f-7f79fb9c6a7a",
   "metadata": {},
   "outputs": [
    {
     "name": "stdout",
     "output_type": "stream",
     "text": [
      "[0.1, 0.2, 0.3, 0.4, 0.5]\n",
      "[0.9, 0.8, 0.7, 0.6, 0.5]\n",
      "[0.1, 0.2, 0.3, 0.4, 0.5]\n",
      "[0.9, 0.8, 0.7, 0.6, 0.5]\n"
     ]
    }
   ],
   "source": [
    "\n",
    "\n",
    "p_values=[]\n",
    "expected_reward1=[]\n",
    "expected_reward2=[]\n",
    "best_reward=[]\n",
    "start=0.1;\n",
    "while start<0.6:\n",
    "    p_values.append(start)\n",
    "    num1=1-start\n",
    "    num2=start\n",
    "    expected_reward1.append(1-start)\n",
    "    expected_reward2.append(start)\n",
    "    if num1>num2:\n",
    "        best_reward.append(num1)\n",
    "    else:\n",
    "        best_reward.append(num2)\n",
    "    start = round(start + 0.1, 1)\n",
    "    \n",
    "print(p_values)\n",
    "print(expected_reward1)\n",
    "print(expected_reward2)\n",
    "print(best_reward)\n",
    "\n",
    "    \n",
    "    "
   ]
  },
  {
   "cell_type": "code",
   "execution_count": 18,
   "id": "8901b346-916c-4860-82eb-c736e6589382",
   "metadata": {},
   "outputs": [],
   "source": [
    "finaldata ={\n",
    " \"p_values\":p_values,\n",
    " \"Expected Rewards a\\u2081\":expected_reward1,\n",
    " \"Expected Rewards a\\u2082\" :expected_reward2,\n",
    "  \"Average Reward in Dataset\" :average_rewards\n",
    "}\n",
    "df=pd.DataFrame(finaldata)\n",
    "pd.set_option(\"display.width\",None)\n",
    "pd.set_option('display.max_columns', None)  \n"
   ]
  },
  {
   "cell_type": "code",
   "execution_count": 19,
   "id": "2f39fa02-1529-46a2-9c26-c612102c7f4c",
   "metadata": {},
   "outputs": [
    {
     "data": {
      "text/html": [
       "<div>\n",
       "<style scoped>\n",
       "    .dataframe tbody tr th:only-of-type {\n",
       "        vertical-align: middle;\n",
       "    }\n",
       "\n",
       "    .dataframe tbody tr th {\n",
       "        vertical-align: top;\n",
       "    }\n",
       "\n",
       "    .dataframe thead th {\n",
       "        text-align: right;\n",
       "    }\n",
       "</style>\n",
       "<table border=\"1\" class=\"dataframe\">\n",
       "  <thead>\n",
       "    <tr style=\"text-align: right;\">\n",
       "      <th></th>\n",
       "      <th>p_values</th>\n",
       "      <th>Expected Rewards a₁</th>\n",
       "      <th>Expected Rewards a₂</th>\n",
       "      <th>Average Reward in Dataset</th>\n",
       "    </tr>\n",
       "  </thead>\n",
       "  <tbody>\n",
       "    <tr>\n",
       "      <th>0</th>\n",
       "      <td>0.1</td>\n",
       "      <td>0.9</td>\n",
       "      <td>0.1</td>\n",
       "      <td>0.81698</td>\n",
       "    </tr>\n",
       "    <tr>\n",
       "      <th>1</th>\n",
       "      <td>0.2</td>\n",
       "      <td>0.8</td>\n",
       "      <td>0.2</td>\n",
       "      <td>0.68028</td>\n",
       "    </tr>\n",
       "    <tr>\n",
       "      <th>2</th>\n",
       "      <td>0.3</td>\n",
       "      <td>0.7</td>\n",
       "      <td>0.3</td>\n",
       "      <td>0.57966</td>\n",
       "    </tr>\n",
       "    <tr>\n",
       "      <th>3</th>\n",
       "      <td>0.4</td>\n",
       "      <td>0.6</td>\n",
       "      <td>0.4</td>\n",
       "      <td>0.52015</td>\n",
       "    </tr>\n",
       "    <tr>\n",
       "      <th>4</th>\n",
       "      <td>0.5</td>\n",
       "      <td>0.5</td>\n",
       "      <td>0.5</td>\n",
       "      <td>0.49954</td>\n",
       "    </tr>\n",
       "  </tbody>\n",
       "</table>\n",
       "</div>"
      ],
      "text/plain": [
       "   p_values  Expected Rewards a₁  Expected Rewards a₂  \\\n",
       "0       0.1                  0.9                  0.1   \n",
       "1       0.2                  0.8                  0.2   \n",
       "2       0.3                  0.7                  0.3   \n",
       "3       0.4                  0.6                  0.4   \n",
       "4       0.5                  0.5                  0.5   \n",
       "\n",
       "   Average Reward in Dataset  \n",
       "0                    0.81698  \n",
       "1                    0.68028  \n",
       "2                    0.57966  \n",
       "3                    0.52015  \n",
       "4                    0.49954  "
      ]
     },
     "execution_count": 19,
     "metadata": {},
     "output_type": "execute_result"
    }
   ],
   "source": [
    "df"
   ]
  },
  {
   "cell_type": "code",
   "execution_count": null,
   "id": "8476047b-50b9-43b6-9d2e-d1c1a36d4b8b",
   "metadata": {},
   "outputs": [],
   "source": []
  },
  {
   "cell_type": "code",
   "execution_count": 21,
   "id": "802c4ed8-475e-4175-a4ef-b5a1b81edc48",
   "metadata": {},
   "outputs": [
    {
     "data": {
      "image/png": "[encoded data removed]",
      "text/plain": [
       "<Figure size 640x480 with 1 Axes>"
      ]
     },
     "metadata": {},
     "output_type": "display_data"
    }
   ],
   "source": [
    "plt.plot(p_values,average_rewards,label=\"Actual\")\n",
    "plt.plot(p_values,best_reward,label=\"Optimal\")\n",
    "plt.title(\"Optimal and Actual Reward in Dataset\",fontsize=17)\n",
    "plt.xlabel(\"Proability p\",fontsize=14)\n",
    "plt.ylabel(\"Average Reward\",fontsize=14)\n",
    "plt.legend()\n",
    "plt.show()"
   ]
  },
  {
   "cell_type": "code",
   "execution_count": null,
   "id": "d68e583a-341c-41e3-87fc-d0fe50b39f89",
   "metadata": {},
   "outputs": [],
   "source": []
  },
  {
   "cell_type": "code",
   "execution_count": null,
   "id": "9e46571b-9392-4699-965a-df2f27c13525",
   "metadata": {},
   "outputs": [],
   "source": []
  },
  {
   "cell_type": "code",
   "execution_count": null,
   "id": "7d0dda21-f00b-4b68-9953-9aff6dc3c54c",
   "metadata": {},
   "outputs": [],
   "source": []
  }
 ],
 "metadata": {
  "kernelspec": {
   "display_name": "Python [conda env:base] *",
   "language": "python",
   "name": "conda-base-py"
  },
  "language_info": {
   "codemirror_mode": {
    "name": "ipython",
    "version": 3
   },
   "file_extension": ".py",
   "mimetype": "text/x-python",
   "name": "python",
   "nbconvert_exporter": "python",
   "pygments_lexer": "ipython3",
   "version": "3.12.7"
  }
 },
 "nbformat": 4,
 "nbformat_minor": 5
}

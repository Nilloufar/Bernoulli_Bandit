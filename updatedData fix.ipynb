{
 "cells": [
  {
   "cell_type": "code",
   "execution_count": null,
   "id": "initial_id",
   "metadata": {},
   "outputs": [],
   "source": []
  },
  {
   "cell_type": "code",
   "execution_count": 2,
   "id": "d619c3fbfcc62a22",
   "metadata": {},
   "outputs": [],
   "source": [
    "# !pip install -r requirements.txt"
   ]
  },
  {
   "cell_type": "code",
   "execution_count": 3,
   "id": "a647629c-605d-40ae-8df3-bc3272bfa226",
   "metadata": {},
   "outputs": [
    {
     "name": "stdout",
     "output_type": "stream",
     "text": [
      "Requirement already satisfied: scikit-learn in c:\\users\\lhaus\\anaconda3\\lib\\site-packages (1.5.1)\n",
      "Requirement already satisfied: numpy>=1.19.5 in c:\\users\\lhaus\\anaconda3\\lib\\site-packages (from scikit-learn) (1.26.4)\n",
      "Requirement already satisfied: scipy>=1.6.0 in c:\\users\\lhaus\\anaconda3\\lib\\site-packages (from scikit-learn) (1.13.1)\n",
      "Requirement already satisfied: joblib>=1.2.0 in c:\\users\\lhaus\\anaconda3\\lib\\site-packages (from scikit-learn) (1.4.2)\n",
      "Requirement already satisfied: threadpoolctl>=3.1.0 in c:\\users\\lhaus\\anaconda3\\lib\\site-packages (from scikit-learn) (3.5.0)\n"
     ]
    }
   ],
   "source": "# !pip install scikit-learn"
  },
  {
   "cell_type": "code",
   "execution_count": 4,
   "id": "16fe84bb950e973",
   "metadata": {},
   "outputs": [
    {
     "name": "stdout",
     "output_type": "stream",
     "text": [
      "Requirement already satisfied: gym in c:\\users\\lhaus\\anaconda3\\lib\\site-packages (0.26.2)\n",
      "Requirement already satisfied: numpy>=1.18.0 in c:\\users\\lhaus\\anaconda3\\lib\\site-packages (from gym) (1.26.4)\n",
      "Requirement already satisfied: cloudpickle>=1.2.0 in c:\\users\\lhaus\\anaconda3\\lib\\site-packages (from gym) (3.0.0)\n",
      "Requirement already satisfied: gym_notices>=0.0.4 in c:\\users\\lhaus\\anaconda3\\lib\\site-packages (from gym) (0.0.8)\n"
     ]
    }
   ],
   "source": "# !pip install gym"
  },
  {
   "cell_type": "code",
   "execution_count": null,
   "id": "311ebb6c-3088-4669-b28a-7af0f507efd8",
   "metadata": {},
   "outputs": [],
   "source": []
  },
  {
   "cell_type": "code",
   "execution_count": null,
   "id": "f7bde6da-6789-4828-b2f7-b713bae8583b",
   "metadata": {},
   "outputs": [],
   "source": []
  },
  {
   "cell_type": "code",
   "id": "c3aa9fdb-31b6-48ab-abb8-c8fc8d812d35",
   "metadata": {
    "ExecuteTime": {
     "end_time": "2025-03-21T01:12:12.333254Z",
     "start_time": "2025-03-21T01:12:12.131802Z"
    }
   },
   "source": [
    "import bernoulli_bandit as bb"
   ],
   "outputs": [
    {
     "name": "stderr",
     "output_type": "stream",
     "text": [
      "Warning: Gym version v0.24.1 has a number of critical issues with `gym.make` such that environment observation and action spaces are incorrectly evaluated, raising incorrect errors and warning . It is recommend to downgrading to v0.23.1 or upgrading to v0.25.1\n"
     ]
    }
   ],
   "execution_count": 1
  },
  {
   "cell_type": "markdown",
   "id": "b811962f7ee9d2ff",
   "metadata": {},
   "source": [
    "### save datasets"
   ]
  },
  {
   "cell_type": "code",
   "id": "a2afc696-77b1-47af-acb3-1d6f5c174cac",
   "metadata": {
    "ExecuteTime": {
     "end_time": "2025-03-21T01:12:15.147873Z",
     "start_time": "2025-03-21T01:12:15.145483Z"
    }
   },
   "source": [
    "\n"
   ],
   "outputs": [],
   "execution_count": 1
  },
  {
   "cell_type": "code",
   "id": "8de6e4604ec90749",
   "metadata": {
    "ExecuteTime": {
     "end_time": "2025-03-21T01:12:41.600014Z",
     "start_time": "2025-03-21T01:12:15.691704Z"
    }
   },
   "source": [
    "p_values = [0.1,0.2,0.3,0.4,0.5]\n",
    "datasets={}\n",
    "for p in p_values:\n",
    "    env = bb.BernoulliBanditEnv(bernoulli_prob=p)  # Create environment with the current p\n",
    "    env = bb.BernoulliBanditWrapper(env)  # Wrap the environment if needed\n",
    "    datasets[p] = bb.get_bandit_dataset(env, p=p, N_steps=100000)  # Generate the dataset and store it\n"
   ],
   "outputs": [
    {
     "name": "stdout",
     "output_type": "stream",
     "text": [
      "bernoulli-bandit: Number of samples collected: 100000\n",
      "Trajectory returns: mean = 0.81984, std = 0.38432066611099647, max = 1.0, min = 0.0\n",
      "bernoulli-bandit: Number of samples collected: 100000\n",
      "Trajectory returns: mean = 0.67905, std = 0.46684161928859774, max = 1.0, min = 0.0\n",
      "bernoulli-bandit: Number of samples collected: 100000\n",
      "Trajectory returns: mean = 0.58219, std = 0.4931985440976079, max = 1.0, min = 0.0\n",
      "bernoulli-bandit: Number of samples collected: 100000\n",
      "Trajectory returns: mean = 0.51867, std = 0.4996513095149457, max = 1.0, min = 0.0\n",
      "bernoulli-bandit: Number of samples collected: 100000\n",
      "Trajectory returns: mean = 0.50046, std = 0.4999997883999552, max = 1.0, min = 0.0\n"
     ]
    }
   ],
   "execution_count": 2
  },
  {
   "cell_type": "code",
   "id": "3ca97ed4-cb43-4615-b1eb-9aab406e6480",
   "metadata": {
    "ExecuteTime": {
     "end_time": "2025-03-21T01:12:41.608847Z",
     "start_time": "2025-03-21T01:12:41.606270Z"
    }
   },
   "source": [
    "\n"
   ],
   "outputs": [],
   "execution_count": 2
  },
  {
   "cell_type": "markdown",
   "id": "c9ea702bbfdbb51b",
   "metadata": {},
   "source": [
    "## load datasets"
   ]
  },
  {
   "cell_type": "code",
   "id": "d78852cc97fbb7d8",
   "metadata": {
    "ExecuteTime": {
     "end_time": "2025-03-21T01:12:42.032511Z",
     "start_time": "2025-03-21T01:12:41.663328Z"
    }
   },
   "source": [
    "import pandas as pd\n",
    "import pickle\n",
    "import numpy as np\n",
    "from matplotlib import pyplot as plt"
   ],
   "outputs": [
    {
     "name": "stderr",
     "output_type": "stream",
     "text": [
      "/home/niloufar/.local/lib/python3.10/site-packages/pandas/core/arrays/masked.py:62: UserWarning: Pandas requires version '1.3.4' or newer of 'bottleneck' (version '1.3.2' currently installed).\n",
      "  from pandas.core import (\n",
      "/home/niloufar/.local/lib/python3.10/site-packages/matplotlib/projections/__init__.py:63: UserWarning: Unable to import Axes3D. This may be due to multiple versions of Matplotlib being installed (e.g. as a system package and as a pip package). As a result, the 3D projection is not available.\n",
      "  warnings.warn(\"Unable to import Axes3D. This may be due to multiple versions of \"\n"
     ]
    }
   ],
   "execution_count": 3
  },
  {
   "cell_type": "code",
   "id": "68405f5abb4f3268",
   "metadata": {
    "ExecuteTime": {
     "end_time": "2025-03-21T01:12:42.535390Z",
     "start_time": "2025-03-21T01:12:42.038Z"
    }
   },
   "source": [
    "data_1 =pickle.load(open(\"bernoulli-bandit-p0.1.pkl\", \"rb\"))\n"
   ],
   "outputs": [],
   "execution_count": 4
  },
  {
   "cell_type": "code",
   "id": "4d2f09dd-3772-4c9a-80d4-0243a76ae4ae",
   "metadata": {
    "ExecuteTime": {
     "end_time": "2025-03-21T01:12:44.944548Z",
     "start_time": "2025-03-21T01:12:42.561376Z"
    }
   },
   "source": [
    "\n",
    "for p in p_values:\n",
    "    file_name = f\"bernoulli-bandit-p{p}.pkl\"  \n",
    "    datasets[p] = pickle.load(open(file_name, \"rb\"))  \n"
   ],
   "outputs": [],
   "execution_count": 5
  },
  {
   "cell_type": "code",
   "id": "b7eee54608903b96",
   "metadata": {
    "ExecuteTime": {
     "end_time": "2025-03-21T01:12:44.964506Z",
     "start_time": "2025-03-21T01:12:44.962746Z"
    }
   },
   "source": [
    "\n"
   ],
   "outputs": [],
   "execution_count": 5
  },
  {
   "cell_type": "code",
   "id": "a766a81d3d83eeef",
   "metadata": {
    "ExecuteTime": {
     "end_time": "2025-03-21T01:12:45.001096Z",
     "start_time": "2025-03-21T01:12:44.999140Z"
    }
   },
   "source": [],
   "outputs": [],
   "execution_count": null
  },
  {
   "cell_type": "code",
   "id": "16f51c24-2759-4f2d-9c4a-ab6eff68a4e7",
   "metadata": {
    "ExecuteTime": {
     "end_time": "2025-03-21T01:12:45.051594Z",
     "start_time": "2025-03-21T01:12:45.048413Z"
    }
   },
   "source": [
    "for p, data in datasets.items():\n",
    "    print(f\"p={p}, type={type(data)}\")  # Check the type of data"
   ],
   "outputs": [
    {
     "name": "stdout",
     "output_type": "stream",
     "text": [
      "p=0.1, type=<class 'list'>\n",
      "p=0.2, type=<class 'list'>\n",
      "p=0.3, type=<class 'list'>\n",
      "p=0.4, type=<class 'list'>\n",
      "p=0.5, type=<class 'list'>\n"
     ]
    }
   ],
   "execution_count": 6
  },
  {
   "cell_type": "code",
   "id": "077c4b3d-a702-4b51-83f5-13b7e1ebbd30",
   "metadata": {
    "ExecuteTime": {
     "end_time": "2025-03-21T01:12:45.102024Z",
     "start_time": "2025-03-21T01:12:45.099763Z"
    }
   },
   "source": [
    "\n"
   ],
   "outputs": [],
   "execution_count": 6
  },
  {
   "cell_type": "code",
   "id": "660e2fd6-005f-47d3-8e01-b404c8e05b58",
   "metadata": {
    "ExecuteTime": {
     "end_time": "2025-03-21T01:12:46.317473Z",
     "start_time": "2025-03-21T01:12:45.150733Z"
    }
   },
   "source": [
    "average_rewards =[]\n",
    "for p, data in datasets.items():\n",
    "  rewards = np.array([np.sum(entry[\"rewards\"]) for entry in data])  \n",
    "  average_reward = np.mean(rewards)  \n",
    "  print(f\"For p: {p}, average reward: {average_reward}\")\n",
    "  average_rewards.append(average_reward)"
   ],
   "outputs": [
    {
     "name": "stdout",
     "output_type": "stream",
     "text": [
      "For p: 0.1, average reward: 0.81984\n",
      "For p: 0.2, average reward: 0.67905\n",
      "For p: 0.3, average reward: 0.58219\n",
      "For p: 0.4, average reward: 0.51867\n",
      "For p: 0.5, average reward: 0.50046\n"
     ]
    }
   ],
   "execution_count": 7
  },
  {
   "cell_type": "code",
   "id": "613715bb-a533-415a-be74-d597574cb1cc",
   "metadata": {
    "ExecuteTime": {
     "end_time": "2025-03-21T01:12:46.330766Z",
     "start_time": "2025-03-21T01:12:46.327931Z"
    }
   },
   "source": [
    "print(average_rewards)"
   ],
   "outputs": [
    {
     "name": "stdout",
     "output_type": "stream",
     "text": [
      "[0.81984, 0.67905, 0.58219, 0.51867, 0.50046]\n"
     ]
    }
   ],
   "execution_count": 8
  },
  {
   "cell_type": "code",
   "id": "3f07fb4e-0e33-4fca-848f-7f79fb9c6a7a",
   "metadata": {
    "ExecuteTime": {
     "end_time": "2025-03-21T01:12:46.382656Z",
     "start_time": "2025-03-21T01:12:46.378692Z"
    }
   },
   "source": [
    "\n",
    "\n",
    "p_values=[]\n",
    "expected_reward1=[]\n",
    "expected_reward2=[]\n",
    "best_reward=[]\n",
    "start=0.1;\n",
    "while start<0.6:\n",
    "    p_values.append(start)\n",
    "    num1=1-start\n",
    "    num2=start\n",
    "    expected_reward1.append(1-start)\n",
    "    expected_reward2.append(start)\n",
    "    if num1>num2:\n",
    "        best_reward.append(num1)\n",
    "    else:\n",
    "        best_reward.append(num2)\n",
    "    start = round(start + 0.1, 1)\n",
    "    \n",
    "print(p_values)\n",
    "print(expected_reward1)\n",
    "print(expected_reward2)\n",
    "print(best_reward)\n",
    "\n",
    "    \n",
    "    "
   ],
   "outputs": [
    {
     "name": "stdout",
     "output_type": "stream",
     "text": [
      "[0.1, 0.2, 0.3, 0.4, 0.5]\n",
      "[0.9, 0.8, 0.7, 0.6, 0.5]\n",
      "[0.1, 0.2, 0.3, 0.4, 0.5]\n",
      "[0.9, 0.8, 0.7, 0.6, 0.5]\n"
     ]
    }
   ],
   "execution_count": 9
  },
  {
   "cell_type": "code",
   "id": "8901b346-916c-4860-82eb-c736e6589382",
   "metadata": {
    "ExecuteTime": {
     "end_time": "2025-03-21T01:12:46.462706Z",
     "start_time": "2025-03-21T01:12:46.459379Z"
    }
   },
   "source": [
    "finaldata ={\n",
    " \"p_values\":p_values,\n",
    " \"Expected Rewards a\\u2081\":expected_reward1,\n",
    " \"Expected Rewards a\\u2082\" :expected_reward2,\n",
    "  \"Average Reward in Dataset\" :average_rewards\n",
    "}\n",
    "df=pd.DataFrame(finaldata)\n",
    "pd.set_option(\"display.width\",None)\n",
    "pd.set_option('display.max_columns', None)  \n"
   ],
   "outputs": [],
   "execution_count": 10
  },
  {
   "cell_type": "code",
   "id": "2f39fa02-1529-46a2-9c26-c612102c7f4c",
   "metadata": {
    "ExecuteTime": {
     "end_time": "2025-03-21T01:12:46.534411Z",
     "start_time": "2025-03-21T01:12:46.520116Z"
    }
   },
   "source": [
    "df"
   ],
   "outputs": [
    {
     "data": {
      "text/plain": [
       "   p_values  Expected Rewards a₁  Expected Rewards a₂  \\\n",
       "0       0.1                  0.9                  0.1   \n",
       "1       0.2                  0.8                  0.2   \n",
       "2       0.3                  0.7                  0.3   \n",
       "3       0.4                  0.6                  0.4   \n",
       "4       0.5                  0.5                  0.5   \n",
       "\n",
       "   Average Reward in Dataset  \n",
       "0                    0.81984  \n",
       "1                    0.67905  \n",
       "2                    0.58219  \n",
       "3                    0.51867  \n",
       "4                    0.50046  "
      ],
      "text/html": [
       "<div>\n",
       "<style scoped>\n",
       "    .dataframe tbody tr th:only-of-type {\n",
       "        vertical-align: middle;\n",
       "    }\n",
       "\n",
       "    .dataframe tbody tr th {\n",
       "        vertical-align: top;\n",
       "    }\n",
       "\n",
       "    .dataframe thead th {\n",
       "        text-align: right;\n",
       "    }\n",
       "</style>\n",
       "<table border=\"1\" class=\"dataframe\">\n",
       "  <thead>\n",
       "    <tr style=\"text-align: right;\">\n",
       "      <th></th>\n",
       "      <th>p_values</th>\n",
       "      <th>Expected Rewards a₁</th>\n",
       "      <th>Expected Rewards a₂</th>\n",
       "      <th>Average Reward in Dataset</th>\n",
       "    </tr>\n",
       "  </thead>\n",
       "  <tbody>\n",
       "    <tr>\n",
       "      <th>0</th>\n",
       "      <td>0.1</td>\n",
       "      <td>0.9</td>\n",
       "      <td>0.1</td>\n",
       "      <td>0.81984</td>\n",
       "    </tr>\n",
       "    <tr>\n",
       "      <th>1</th>\n",
       "      <td>0.2</td>\n",
       "      <td>0.8</td>\n",
       "      <td>0.2</td>\n",
       "      <td>0.67905</td>\n",
       "    </tr>\n",
       "    <tr>\n",
       "      <th>2</th>\n",
       "      <td>0.3</td>\n",
       "      <td>0.7</td>\n",
       "      <td>0.3</td>\n",
       "      <td>0.58219</td>\n",
       "    </tr>\n",
       "    <tr>\n",
       "      <th>3</th>\n",
       "      <td>0.4</td>\n",
       "      <td>0.6</td>\n",
       "      <td>0.4</td>\n",
       "      <td>0.51867</td>\n",
       "    </tr>\n",
       "    <tr>\n",
       "      <th>4</th>\n",
       "      <td>0.5</td>\n",
       "      <td>0.5</td>\n",
       "      <td>0.5</td>\n",
       "      <td>0.50046</td>\n",
       "    </tr>\n",
       "  </tbody>\n",
       "</table>\n",
       "</div>"
      ]
     },
     "execution_count": 11,
     "metadata": {},
     "output_type": "execute_result"
    }
   ],
   "execution_count": 11
  },
  {
   "cell_type": "code",
   "id": "8476047b-50b9-43b6-9d2e-d1c1a36d4b8b",
   "metadata": {
    "ExecuteTime": {
     "end_time": "2025-03-21T01:12:46.625953Z",
     "start_time": "2025-03-21T01:12:46.624153Z"
    }
   },
   "source": [],
   "outputs": [],
   "execution_count": null
  },
  {
   "cell_type": "code",
   "id": "802c4ed8-475e-4175-a4ef-b5a1b81edc48",
   "metadata": {
    "ExecuteTime": {
     "end_time": "2025-03-21T01:12:48.331977Z",
     "start_time": "2025-03-21T01:12:48.206273Z"
    }
   },
   "source": [
    "plt.plot(p_values,average_rewards,label=\"Actual\")\n",
    "plt.plot(p_values,best_reward,label=\"Optimal\")\n",
    "plt.title(\"Optimal and Actual Reward in Dataset\",fontsize=17)\n",
    "plt.xlabel(\"Proability p\",fontsize=14)\n",
    "plt.ylabel(\"Average Reward\",fontsize=14)\n",
    "plt.legend()\n",
    "plt.show()"
   ],
   "outputs": [
    {
     "data": {
      "text/plain": [
       "<Figure size 432x288 with 1 Axes>"
      ],
      "image/png": "[encoded data removed]"
     },
     "metadata": {
      "needs_background": "light"
     },
     "output_type": "display_data"
    }
   ],
   "execution_count": 12
  },
  {
   "cell_type": "code",
   "id": "d68e583a-341c-41e3-87fc-d0fe50b39f89",
   "metadata": {
    "ExecuteTime": {
     "end_time": "2025-03-21T01:12:49.979596Z",
     "start_time": "2025-03-21T01:12:49.627718Z"
    }
   },
   "source": [
    "from sklearn.model_selection import train_test_split"
   ],
   "outputs": [],
   "execution_count": 13
  },
  {
   "cell_type": "code",
   "id": "9e46571b-9392-4699-965a-df2f27c13525",
   "metadata": {
    "ExecuteTime": {
     "end_time": "2025-03-21T01:12:50.725328Z",
     "start_time": "2025-03-21T01:12:50.721841Z"
    }
   },
   "source": [
    "p2data=datasets[0.2]\n",
    "print(type(p2data))"
   ],
   "outputs": [
    {
     "name": "stdout",
     "output_type": "stream",
     "text": [
      "<class 'list'>\n"
     ]
    }
   ],
   "execution_count": 14
  },
  {
   "cell_type": "code",
   "id": "7d0dda21-f00b-4b68-9953-9aff6dc3c54c",
   "metadata": {
    "ExecuteTime": {
     "end_time": "2025-03-21T01:12:55.822446Z",
     "start_time": "2025-03-21T01:12:55.787852Z"
    }
   },
   "source": [
    "train_data, temp_data = train_test_split(p2data, test_size=0.3, random_state=42)"
   ],
   "outputs": [],
   "execution_count": 15
  },
  {
   "cell_type": "code",
   "id": "81d49294-c339-4070-9c29-f4ade83ebba3",
   "metadata": {
    "ExecuteTime": {
     "end_time": "2025-03-21T01:12:57.019546Z",
     "start_time": "2025-03-21T01:12:57.013703Z"
    }
   },
   "source": [
    "print(type(train_data))\n",
    "print(train_data[:5])"
   ],
   "outputs": [
    {
     "name": "stdout",
     "output_type": "stream",
     "text": [
      "<class 'list'>\n",
      "[{'observations': array([[0.]]), 'next_observations': array([[0.]]), 'actions': array([[0., 1.]]), 'rewards': array([0.]), 'terminals': array([ True])}, {'observations': array([[0.]]), 'next_observations': array([[0.]]), 'actions': array([[0., 1.]]), 'rewards': array([1.]), 'terminals': array([ True])}, {'observations': array([[0.]]), 'next_observations': array([[0.]]), 'actions': array([[1., 0.]]), 'rewards': array([0.]), 'terminals': array([ True])}, {'observations': array([[0.]]), 'next_observations': array([[0.]]), 'actions': array([[0., 1.]]), 'rewards': array([1.]), 'terminals': array([ True])}, {'observations': array([[0.]]), 'next_observations': array([[0.]]), 'actions': array([[0., 1.]]), 'rewards': array([1.]), 'terminals': array([ True])}]\n"
     ]
    }
   ],
   "execution_count": 16
  },
  {
   "cell_type": "code",
   "id": "d8b26e6e-743d-453c-b576-49211dfaa1f1",
   "metadata": {
    "ExecuteTime": {
     "end_time": "2025-03-21T01:13:01.113310Z",
     "start_time": "2025-03-21T01:13:01.099989Z"
    }
   },
   "source": [
    "validation_data, test_data = train_test_split(temp_data, test_size=0.5, random_state=42)"
   ],
   "outputs": [],
   "execution_count": 17
  },
  {
   "cell_type": "code",
   "id": "a8636e97-176e-4eb1-87be-b3262f6cec52",
   "metadata": {
    "ExecuteTime": {
     "end_time": "2025-03-21T01:13:13.555594Z",
     "start_time": "2025-03-21T01:13:13.377599Z"
    }
   },
   "source": [
    "\n",
    "rewards1 = [item['rewards'][0] for item in train_data]\n",
    "rewards2 = [item['rewards'][0] for item in validation_data]\n",
    "rewards3 = [item['rewards'][0] for item in test_data]\n",
    "average_reward_training = np.mean(rewards1)\n",
    "average_reward_validation = np.mean(rewards2)\n",
    "average_reward_test = np.mean(rewards3)\n",
    "\n",
    "print(average_reward_training,average_reward_validation,average_reward_test)\n",
    "#saving data with numpy\n",
    "rewards_training = np.array(rewards1)\n",
    "rewards_validation = np.array(rewards2)\n",
    "rewards_test=np.array(rewards3)\n",
    "np.savetxt('rewards_training.csv', rewards_training, delimiter=',')\n",
    "np.savetxt('rewards_validation.csv', rewards_validation, delimiter=',')\n",
    "np.savetxt('rewards_test.csv', rewards_test, delimiter=',')"
   ],
   "outputs": [
    {
     "name": "stdout",
     "output_type": "stream",
     "text": [
      "0.6807285714285715 0.6742666666666667 0.676\n"
     ]
    }
   ],
   "execution_count": 18
  },
  {
   "cell_type": "code",
   "id": "b94a5d91-a42b-40be-9cee-2511fed9a8d6",
   "metadata": {
    "ExecuteTime": {
     "end_time": "2025-03-21T01:34:18.700126Z",
     "start_time": "2025-03-21T01:34:18.575407Z"
    }
   },
   "source": [
    "#1 save the data as is:\n",
    "# pd.DataFrame(train_data).to_csv('train_data.csv',index=False)\n",
    "# train_data = pd.read_csv('train_data.csv')\n",
    "# train_states=[s[0][0] for s in train_data['observations']]\n",
    "# train_actions=[a[0] for a in train_data['observations']]\n",
    "\n",
    "#2 preprocess the data before saving:\n",
    "\n",
    "\n",
    "train_states = [item['observations'][0][0] for item in train_data]\n",
    "train_actions = [item['actions'][0] for item in train_data]\n",
    "train_rewards = [item['rewards'][0] for item in train_data]\n",
    "train_data=pd.DataFrame({'states':train_states,'actions':train_actions,'rewards':train_rewards})\n",
    "train_data.to_csv('train_data.csv',index=False)"
   ],
   "outputs": [],
   "execution_count": 34
  },
  {
   "metadata": {},
   "cell_type": "code",
   "outputs": [],
   "execution_count": null,
   "source": "",
   "id": "448a066557da87c3"
  }
 ],
 "metadata": {
  "kernelspec": {
   "display_name": "Python 3 (ipykernel)",
   "language": "python",
   "name": "python3"
  },
  "language_info": {
   "codemirror_mode": {
    "name": "ipython",
    "version": 3
   },
   "file_extension": ".py",
   "mimetype": "text/x-python",
   "name": "python",
   "nbconvert_exporter": "python",
   "pygments_lexer": "ipython3",
   "version": "3.12.7"
  }
 },
 "nbformat": 4,
 "nbformat_minor": 5
}

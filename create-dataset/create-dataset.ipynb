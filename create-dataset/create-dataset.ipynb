{
 "cells": [
  {
   "cell_type": "code",
   "execution_count": null,
   "id": "initial_id",
   "metadata": {
    "collapsed": true
   },
   "outputs": [],
   "source": [
    ""
   ]
  },
  {
   "metadata": {},
   "cell_type": "code",
   "outputs": [],
   "execution_count": null,
   "source": "# !pip install -r requirements.txt",
   "id": "d619c3fbfcc62a22"
  },
  {
   "metadata": {},
   "cell_type": "markdown",
   "source": "### save datasets",
   "id": "b811962f7ee9d2ff"
  },
  {
   "metadata": {},
   "cell_type": "code",
   "outputs": [],
   "execution_count": null,
   "source": "import bernoulli_bandit as bb",
   "id": "16fe84bb950e973"
  },
  {
   "metadata": {},
   "cell_type": "code",
   "outputs": [],
   "execution_count": null,
   "source": [
    "# Example for generating one dataset\n",
    "p=0.1\n",
    "env = bb.BernoulliBanditEnv(bernoulli_prob=p)\n",
    "env = bb.BernoulliBanditWrapper(env)\n",
    "bb.get_bandit_dataset(env, p=p, N_steps=100000)"
   ],
   "id": "8de6e4604ec90749"
  },
  {
   "metadata": {},
   "cell_type": "markdown",
   "source": "## load datasets",
   "id": "c9ea702bbfdbb51b"
  },
  {
   "metadata": {},
   "cell_type": "code",
   "outputs": [],
   "execution_count": null,
   "source": [
    "import pandas as pd\n",
    "import pickle\n",
    "import numpy as np"
   ],
   "id": "d78852cc97fbb7d8"
  },
  {
   "metadata": {},
   "cell_type": "code",
   "outputs": [],
   "execution_count": null,
   "source": "data_1 =pickle.load(open(\"bernoulli-bandit-p0.1.pkl\", \"rb\"))\n",
   "id": "68405f5abb4f3268"
  },
  {
   "metadata": {},
   "cell_type": "code",
   "outputs": [],
   "execution_count": null,
   "source": [
    "print(len(data_1))\n",
    "print(data_1[0].keys())\n",
    "data_frame = pd.DataFrame(data_1)\n",
    "data_frame.head()"
   ],
   "id": "a766a81d3d83eeef"
  },
  {
   "metadata": {},
   "cell_type": "code",
   "outputs": [],
   "execution_count": null,
   "source": [
    "average_reward=np.mean(np.array([np.sum(p[\"rewards\"]) for p in data_1]))\n",
    "print(f\"for p: {p}, average reward: {average_reward}\")"
   ],
   "id": "b7eee54608903b96"
  }
 ],
 "metadata": {
  "kernelspec": {
   "display_name": "Python 3",
   "language": "python",
   "name": "python3"
  },
  "language_info": {
   "codemirror_mode": {
    "name": "ipython",
    "version": 2
   },
   "file_extension": ".py",
   "mimetype": "text/x-python",
   "name": "python",
   "nbconvert_exporter": "python",
   "pygments_lexer": "ipython2",
   "version": "2.7.6"
  }
 },
 "nbformat": 4,
 "nbformat_minor": 5
}
